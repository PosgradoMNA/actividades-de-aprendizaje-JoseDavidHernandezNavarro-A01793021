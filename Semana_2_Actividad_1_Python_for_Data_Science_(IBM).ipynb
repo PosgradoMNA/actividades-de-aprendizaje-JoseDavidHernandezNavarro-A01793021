{
  "nbformat": 4,
  "nbformat_minor": 0,
  "metadata": {
    "colab": {
      "provenance": [],
      "mount_file_id": "1EKsleOLolESm1_37rv42tskVbkuRFYYC",
      "authorship_tag": "ABX9TyO+JyKKnj/wSzViJhC2GF+q",
      "include_colab_link": true
    },
    "kernelspec": {
      "name": "python3",
      "display_name": "Python 3"
    },
    "language_info": {
      "name": "python"
    }
  },
  "cells": [
    {
      "cell_type": "markdown",
      "metadata": {
        "id": "view-in-github",
        "colab_type": "text"
      },
      "source": [
        "<a href=\"https://colab.research.google.com/github/PosgradoMNA/actividades-de-aprendizaje-JoseDavidHernandezNavarro-A01793021/blob/main/Semana_2_Actividad_1_Python_for_Data_Science_(IBM).ipynb\" target=\"_parent\"><img src=\"https://colab.research.google.com/assets/colab-badge.svg\" alt=\"Open In Colab\"/></a>"
      ]
    },
    {
      "cell_type": "markdown",
      "source": [
        "\n",
        "**José David Hernandez Navarro**\n",
        "\n",
        "---\n",
        "\n",
        "**A011793021**\n",
        "\n",
        "---\n"
      ],
      "metadata": {
        "id": "maQDwoG5UJ1x"
      }
    },
    {
      "cell_type": "markdown",
      "source": [
        "***Modulo 4 - 1***"
      ],
      "metadata": {
        "id": "NO3WGmahUbvS"
      }
    },
    {
      "cell_type": "code",
      "execution_count": null,
      "metadata": {
        "colab": {
          "base_uri": "https://localhost:8080/"
        },
        "id": "SAubOiKVUGK1",
        "outputId": "5a5b31a1-1153-41d9-d9a6-1fcda43abe27"
      },
      "outputs": [
        {
          "output_type": "stream",
          "name": "stdout",
          "text": [
            "hola\n",
            "me gusta\n",
            "la vida\n"
          ]
        }
      ],
      "source": [
        "#Notas\n",
        "\n",
        "\n",
        "with open(\"/content/drive/MyDrive/EBSCO/prueba.txt\",\"r\") as File1: #Lee el contenido de un archivo\n",
        "\n",
        "  file_stuff=File1.read()\n",
        "  \n",
        "  print(file_stuff)\n",
        "\n",
        "  #print(File1.closed)\n",
        "  #print(file_stuff)\n",
        "\n"
      ]
    },
    {
      "cell_type": "code",
      "source": [
        "with open(\"/content/drive/MyDrive/EBSCO/prueba.txt\",\"r\") as File1: #Lee el contenido de un archivo y muestra la separacion de lineas\n",
        "\n",
        "  file_stuff=File1.readlines()\n",
        "  print(file_stuff)"
      ],
      "metadata": {
        "colab": {
          "base_uri": "https://localhost:8080/"
        },
        "id": "Z9lXdds9afQB",
        "outputId": "d1df54b3-81a1-42c0-dcec-a37ba8a22e05"
      },
      "execution_count": null,
      "outputs": [
        {
          "output_type": "stream",
          "name": "stdout",
          "text": [
            "['hola\\n', 'me gusta\\n', 'la vida']\n"
          ]
        }
      ]
    },
    {
      "cell_type": "code",
      "source": [
        "#Lab1 - Reading Files Python\n",
        "#Lectura de archivos .TXT\n",
        "example1 = \"/content/drive/MyDrive/EBSCO/Ejemplo1.txt\"\n",
        "file1 = open(example1, \"r\")\n",
        "\n",
        "\n",
        "print(file1.name) #Imprime la ruta del archivo\n",
        "print(file1.mode) #Imprime el modo en el que se encuentra el archivo\n",
        "\n",
        "FileContent = file1.read() #Lee el contenido del archivo TXT\n",
        "print(FileContent)\n",
        "\n",
        "print(type(FileContent)) #Imprime el tipo del contenido del TXT\n",
        "file1.close()"
      ],
      "metadata": {
        "colab": {
          "base_uri": "https://localhost:8080/"
        },
        "id": "mTn_dQwwfTyP",
        "outputId": "1cd61257-4af5-4b49-bd4b-535f9971e017"
      },
      "execution_count": null,
      "outputs": [
        {
          "output_type": "stream",
          "name": "stdout",
          "text": [
            "/content/drive/MyDrive/EBSCO/Ejemplo1.txt\n",
            "r\n",
            "Hola Maestro Jobish\n",
            "Me gusta\n",
            "Programar\n",
            "<class 'str'>\n"
          ]
        }
      ]
    },
    {
      "cell_type": "code",
      "source": [
        "#Otra forma de abrir un archivo\n",
        "\n",
        "with open(example1, \"r\") as file1:\n",
        "    FileContent = file1.read()\n",
        "    print(FileContent)"
      ],
      "metadata": {
        "colab": {
          "base_uri": "https://localhost:8080/"
        },
        "id": "TOIyDumsUAHY",
        "outputId": "4fce9f7b-9107-4df2-8979-515466ae329c"
      },
      "execution_count": null,
      "outputs": [
        {
          "output_type": "stream",
          "name": "stdout",
          "text": [
            "Hola Maestro Jobish\n",
            "Me gusta\n",
            "Programar\n"
          ]
        }
      ]
    },
    {
      "cell_type": "code",
      "source": [
        "estado = file1.closed #Se confirma si el archivo esta cerrado o abierto\n",
        "print(estado)\n",
        "\n",
        "\n",
        "num_caracteres = 19 #Lee los caracteres que deseemos\n",
        "with open(example1, \"r\") as file1: \n",
        "    print(file1.read(num_caracteres))\n",
        "\n"
      ],
      "metadata": {
        "colab": {
          "base_uri": "https://localhost:8080/"
        },
        "id": "jHlLo2InTaCn",
        "outputId": "96776f4f-ff64-43c6-d36d-d50b7f42924d"
      },
      "execution_count": null,
      "outputs": [
        {
          "output_type": "stream",
          "name": "stdout",
          "text": [
            "True\n",
            "Hola Maestro Jobish\n"
          ]
        }
      ]
    },
    {
      "cell_type": "code",
      "source": [
        "with open(example1, \"r\") as file1: #Lee los numeros de caracteres que deseemos pero si se aplica de nuevo continua donde esta\n",
        "    print(file1.read(16))\n",
        "    print(file1.read(5))\n",
        "    print(file1.read(9))\n",
        "    print(file1.read(8))"
      ],
      "metadata": {
        "colab": {
          "base_uri": "https://localhost:8080/"
        },
        "id": "wCmHSdxjh8mB",
        "outputId": "a858e4e8-1aa6-4755-8864-f57bb1d868c8"
      },
      "execution_count": null,
      "outputs": [
        {
          "output_type": "stream",
          "name": "stdout",
          "text": [
            "Hola Maestro Job\n",
            "ish\n",
            "M\n",
            "e gusta\n",
            "P\n",
            "rogramar\n"
          ]
        }
      ]
    },
    {
      "cell_type": "code",
      "source": [
        "with open(example1, \"r\") as file1:\n",
        "    print(file1.readline(19)) #Con esto no leemos la cantidad de carcateres de la priemra lina\n",
        "    print(file1.read(19)) # Returns the next 20 chars\n"
      ],
      "metadata": {
        "colab": {
          "base_uri": "https://localhost:8080/"
        },
        "id": "ZAhojJSqifj3",
        "outputId": "031899bb-af33-4118-8496-bca0360aa5ac"
      },
      "execution_count": null,
      "outputs": [
        {
          "output_type": "stream",
          "name": "stdout",
          "text": [
            "Hola Maestro Jobish\n",
            "\n",
            "Me gusta\n",
            "Programar\n"
          ]
        }
      ]
    },
    {
      "cell_type": "code",
      "source": [
        "with open(example1,\"r\") as file1: #Separa y marca cada uno de los renglones\n",
        "        i = 0;\n",
        "        for line in file1:\n",
        "            print(\"Renglon\", str(i), \": \", line)\n",
        "            i = i + 1"
      ],
      "metadata": {
        "colab": {
          "base_uri": "https://localhost:8080/"
        },
        "id": "TzwFoD0DjZrH",
        "outputId": "50348046-633e-4786-e139-0ae958a66af1"
      },
      "execution_count": null,
      "outputs": [
        {
          "output_type": "stream",
          "name": "stdout",
          "text": [
            "Renglon 0 :  Hola Maestro Jobish\n",
            "\n",
            "Renglon 1 :  Me gusta\n",
            "\n",
            "Renglon 2 :  Programar\n"
          ]
        }
      ]
    },
    {
      "cell_type": "code",
      "source": [
        "with open(example1, \"r\") as file1: #guarda los elementos del TXT como lista\n",
        "    FileasList = file1.readlines()"
      ],
      "metadata": {
        "id": "-vt11kmTjrtG"
      },
      "execution_count": null,
      "outputs": []
    },
    {
      "cell_type": "code",
      "source": [
        "print(FileasList[0]) #Imprimer la linea que deseemos de la lista, ene ste caso la primera\n",
        "print(FileasList[2]) #Nuevamente imprime la linea que uno desee, en este caso la tercera"
      ],
      "metadata": {
        "colab": {
          "base_uri": "https://localhost:8080/"
        },
        "id": "XQLhQMACjzrF",
        "outputId": "097883ae-4927-4257-84e9-7f38bc40dd50"
      },
      "execution_count": null,
      "outputs": [
        {
          "output_type": "stream",
          "name": "stdout",
          "text": [
            "Hola Maestro Jobish\n",
            "\n",
            "Programar\n"
          ]
        }
      ]
    },
    {
      "cell_type": "markdown",
      "source": [
        "***Modulo 4 - 2***"
      ],
      "metadata": {
        "id": "g3b6Xtsolhh7"
      }
    },
    {
      "cell_type": "code",
      "source": [
        "#Clase\n",
        "Ceararchiv = open(\"/content/drive/MyDrive/EBSCO/Nuevoarchivo.txt\", \"w\") #Crea un archivo si ya existe, sobreescribe\n",
        "\n",
        "Lines =[\"Rafa: Hola Lisa\\n\",\"mira estoy\\n\",\"aprendiendo a programar\\n\"]\n",
        "\n",
        "with open(\"/content/drive/MyDrive/EBSCO/Nuevoarchivo.txt\", \"w\") as File1:\n",
        "\n",
        "  for line in Lines:\n",
        "\n",
        "    File1.write(line)\n",
        "\n",
        "\n",
        "with open(\"/content/drive/MyDrive/EBSCO/Nuevoarchivo.txt\", \"a\") as File1:\n",
        "  File1.write(\"Lisa: Asi se hace rafa \")\n"
      ],
      "metadata": {
        "id": "zmty2Rjctjma"
      },
      "execution_count": 6,
      "outputs": []
    },
    {
      "cell_type": "code",
      "source": [
        "#Lab2\n",
        "# Write line to file\n",
        "exmp2 = '/content/drive/MyDrive/EBSCO/Ejemplo2.txt'\n",
        "with open(exmp2, 'w') as writefile:\n",
        "    writefile.write(\"Aprendiendo con Python\")\n",
        "\n",
        "with open(exmp2, 'r') as testwritefile: #Este comando nos sirve para leer el contenido de un archivo TXT \n",
        "    print(testwritefile.read()) #Solo se imprimira el \"Aprendiendo Python\n",
        "\n",
        "with open(exmp2, 'w') as writefile: #Este codigo reescribe un archivo ya existente\n",
        "    writefile.write(\"Esta es la primera linea A\\n\")\n",
        "    writefile.write(\"Esta es la segunda linea B\\n\")\n",
        "\n",
        "with open(exmp2, 'r') as testwritefile: #Aqui se imrpime la nueva version del cntenido del archivo\n",
        "    print(testwritefile.read())    \n"
      ],
      "metadata": {
        "id": "9doss4CAkw1f",
        "colab": {
          "base_uri": "https://localhost:8080/"
        },
        "outputId": "9d4e324e-9da8-49ec-f8e4-f1b399ae9793"
      },
      "execution_count": 12,
      "outputs": [
        {
          "output_type": "stream",
          "name": "stdout",
          "text": [
            "Aprendiendo con Python\n",
            "Esta es la primera linea A\n",
            "Esta es la segunda linea B\n",
            "\n"
          ]
        }
      ]
    },
    {
      "cell_type": "code",
      "source": [
        "Linea = [\"Me gusta \\n\", \"Mucho practicar \\n\", \"Mi Python \\n\"] #Eejmplo de la creación de una lista\n",
        "Linea"
      ],
      "metadata": {
        "colab": {
          "base_uri": "https://localhost:8080/"
        },
        "id": "fs1bODKwKQOS",
        "outputId": "3ba7266f-320a-4053-8358-0412a18bf8bb"
      },
      "execution_count": 19,
      "outputs": [
        {
          "output_type": "execute_result",
          "data": {
            "text/plain": [
              "['Me gusta \\n', 'Mucho practicar \\n', 'Mi Python \\n']"
            ]
          },
          "metadata": {},
          "execution_count": 19
        }
      ]
    },
    {
      "cell_type": "code",
      "source": [
        "with open('Example2.txt', 'w') as writefile: #Aqui podemos reescribir el contenido del archivo anterior con lo que viene  en la lista\n",
        "    for line in Linea:\n",
        "        print(line) #Imprime cada linea por semarado\n",
        "        writefile.write(line)\n",
        "\n",
        "\n",
        "with open('Example2.txt', 'r') as testwritefile: #Aqui solamente se imrpime la ultima version\n",
        "   print(testwritefile.read())"
      ],
      "metadata": {
        "colab": {
          "base_uri": "https://localhost:8080/"
        },
        "id": "41fM41YHLzvr",
        "outputId": "f3317592-72d3-492e-9b21-52c61374d955"
      },
      "execution_count": 23,
      "outputs": [
        {
          "output_type": "stream",
          "name": "stdout",
          "text": [
            "Me gusta \n",
            "\n",
            "Mucho practicar \n",
            "\n",
            "Mi Python \n",
            "\n",
            "Me gusta \n",
            "Mucho practicar \n",
            "Mi Python \n",
            "\n"
          ]
        }
      ]
    },
    {
      "cell_type": "code",
      "source": [
        "with open('Example2.txt', 'w') as writefile: #Nuevamente podemos observar como se sobre escribe con este codigo un TXT ya existente y borra todo\n",
        "    writefile.write(\"Lineas borradas \\n\")\n",
        "with open('Example2.txt', 'r') as testwritefile:\n",
        "    print(testwritefile.read())"
      ],
      "metadata": {
        "colab": {
          "base_uri": "https://localhost:8080/"
        },
        "id": "HByqI-89WII2",
        "outputId": "0180632b-13a6-44da-ffcf-97f9dcf377d1"
      },
      "execution_count": 26,
      "outputs": [
        {
          "output_type": "stream",
          "name": "stdout",
          "text": [
            "Lineas borradas \n",
            "\n"
          ]
        }
      ]
    },
    {
      "cell_type": "code",
      "source": [
        "with open('Example2.txt', 'a') as testwritefile: #En este ejercicio podemos agregar información sin sobreescribir los existentes\n",
        "    testwritefile.write(\"Este texto\\n\")\n",
        "    testwritefile.write(\"fue agregado\\n\")\n",
        "    testwritefile.write(\"Sin borrar el anterior\\n\")\n",
        "\n",
        "\n",
        "with open('Example2.txt', 'r') as testwritefile: #Leemos\n",
        " print(testwritefile.read())"
      ],
      "metadata": {
        "colab": {
          "base_uri": "https://localhost:8080/"
        },
        "id": "FZwkJEN-hrpY",
        "outputId": "0cb1de73-05f2-4d41-aa77-327708c5c0d6"
      },
      "execution_count": 30,
      "outputs": [
        {
          "output_type": "stream",
          "name": "stdout",
          "text": [
            "Lineas borradas \n",
            "Este texto\n",
            "fue agregado\n",
            "Sin borrar el anteriorE\n",
            "Este texto\n",
            "fue agregado\n",
            "Sin borrar el anterior\n",
            "Este texto\n",
            "fue agregado\n",
            "Sin borrar el anterior\n",
            "\n"
          ]
        }
      ]
    },
    {
      "cell_type": "code",
      "source": [
        "with open('Example2.txt', 'a+') as testwritefile: #Agrega y lee al mismo modo el contenido del TXT\n",
        "    testwritefile.write(\"Esta es la nueva linea\\n\")\n",
        "    print(testwritefile.read())"
      ],
      "metadata": {
        "colab": {
          "base_uri": "https://localhost:8080/"
        },
        "id": "vZeJPLmvirhf",
        "outputId": "79b36f7e-267e-4645-a30f-29c75b26394f"
      },
      "execution_count": 32,
      "outputs": [
        {
          "output_type": "stream",
          "name": "stdout",
          "text": [
            "\n"
          ]
        }
      ]
    },
    {
      "cell_type": "code",
      "source": [
        "with open('Example2.txt', 'a+') as testwritefile:\n",
        "    print(\"Posicion inicial: {}\".format(testwritefile.tell()))\n",
        "    \n",
        "    data = testwritefile.read()\n",
        "    if (not data):  #empty strings return false in python\n",
        "            print('Leyendo nada') \n",
        "    else: \n",
        "            print(testwritefile.read())\n",
        "            \n",
        "    testwritefile.seek(0,0) # mueve ceros bytes desde el inicio\n",
        "    \n",
        "    print(\"\\nNueva posicion : {}\".format(testwritefile.tell()))\n",
        "    data = testwritefile.read()\n",
        "    if (not data): \n",
        "            print('Leyendo nada') \n",
        "    else: \n",
        "            print(data)\n",
        "    \n",
        "    print(\"Ubicacion despues de la lectura: {}\".format(testwritefile.tell()) )"
      ],
      "metadata": {
        "colab": {
          "base_uri": "https://localhost:8080/"
        },
        "id": "uKgMY-4-lQlg",
        "outputId": "25b709a9-c983-4376-df5e-741467568026"
      },
      "execution_count": 33,
      "outputs": [
        {
          "output_type": "stream",
          "name": "stdout",
          "text": [
            "Posicion inicial: 205\n",
            "Leyendo nada\n",
            "\n",
            "Nueva posicion : 0\n",
            "Lineas borradas \n",
            "Este texto\n",
            "fue agregado\n",
            "Sin borrar el anteriorE\n",
            "Este texto\n",
            "fue agregado\n",
            "Sin borrar el anterior\n",
            "Este texto\n",
            "fue agregado\n",
            "Sin borrar el anterior\n",
            "Esta es la nueva linea\n",
            "Esta es la nueva linea\n",
            "\n",
            "Ubicacion despues de la lectura: 205\n"
          ]
        }
      ]
    },
    {
      "cell_type": "code",
      "source": [
        "with open('Example2.txt', 'r+') as testwritefile:\n",
        "    data = testwritefile.readlines()\n",
        "    testwritefile.seek(0,0) #Nos ayuda a escribir desde el incio del TXT\n",
        "   \n",
        "    testwritefile.write(\"Nueva linea 1\" + \"\\n\")\n",
        "    testwritefile.write(\"Nueva linea 2\" + \"\\n\")\n",
        "    testwritefile.write(\"Nueva linea 3\" + \"\\n\")\n",
        "    testwritefile.write(\"Terminado\\n\")\n",
        "   \n",
        "    testwritefile.truncate() #Esta liena en especifico formatea todo el archivo\n",
        "    testwritefile.seek(0,0)\n",
        "    print(testwritefile.read())"
      ],
      "metadata": {
        "colab": {
          "base_uri": "https://localhost:8080/"
        },
        "id": "x3SJJ2tRmo3A",
        "outputId": "5f256f3b-78a9-49cd-d029-4c0aef09e3e0"
      },
      "execution_count": 35,
      "outputs": [
        {
          "output_type": "stream",
          "name": "stdout",
          "text": [
            "Nueva linea 1\n",
            "Nueva linea 2\n",
            "Nueva linea 3\n",
            "Terminado\n",
            "\n"
          ]
        }
      ]
    },
    {
      "cell_type": "code",
      "source": [
        "with open('Example2.txt','r') as readfile: #Aqui podmeos apreciar una forma de copiar archivos\n",
        "    with open('/content/drive/MyDrive/EBSCO/Ejemplo3.txt','w') as writefile:\n",
        "          for line in readfile:\n",
        "                writefile.write(line)\n",
        "\n",
        "\n",
        "with open('/content/drive/MyDrive/EBSCO/Ejemplo3.txt','r') as testwritefile:  #Esta linea es solo para abrir y corroborar el nuevo archivo\n",
        "    print(testwritefile.read())"
      ],
      "metadata": {
        "colab": {
          "base_uri": "https://localhost:8080/"
        },
        "id": "JD5k4VmgnS_q",
        "outputId": "535260a7-62bf-451a-ebd5-68b428fb230f"
      },
      "execution_count": 41,
      "outputs": [
        {
          "output_type": "stream",
          "name": "stdout",
          "text": [
            "Nueva linea 1\n",
            "Nueva linea 2\n",
            "Nueva linea 3\n",
            "Terminado\n",
            "\n"
          ]
        }
      ]
    },
    {
      "cell_type": "code",
      "source": [
        "#Ejercicio\n",
        "#Este codigo solo carga a nuestra base los archivos inactive.TXT y members.TXT\n",
        "from random import randint as rnd\n",
        "\n",
        "memReg = '/content/drive/MyDrive/EBSCO/miembros.txt'\n",
        "exReg = '/content/drive/MyDrive/EBSCO/inactivos.txt'\n",
        "fee =('yes','no')\n",
        "\n",
        "def genFiles(current,old):\n",
        "    with open(current,'w+') as writefile: \n",
        "        writefile.write('Num. memebresia  Fecha inicio  Active  \\n')\n",
        "        data = \"{:^13}  {:<11}  {:<6}\\n\"\n",
        "\n",
        "        for rowno in range(20):\n",
        "            date = str(rnd(2015,2020))+ '-' + str(rnd(1,12))+'-'+str(rnd(1,25))\n",
        "            writefile.write(data.format(rnd(10000,99999),date,fee[rnd(0,1)]))\n",
        "\n",
        "\n",
        "    with open(old,'w+') as writefile: \n",
        "        writefile.write('Num. memebresia  Fecha inicio  Active  \\n')\n",
        "        data = \"{:^13}  {:<11}  {:<6}\\n\"\n",
        "        for rowno in range(3):\n",
        "            date = str(rnd(2015,2020))+ '-' + str(rnd(1,12))+'-'+str(rnd(1,25))\n",
        "            writefile.write(data.format(rnd(10000,99999),date,fee[1]))\n",
        "\n",
        "\n",
        "genFiles(memReg,exReg)\n"
      ],
      "metadata": {
        "id": "-220LX-yn6NA"
      },
      "execution_count": 67,
      "outputs": []
    },
    {
      "cell_type": "code",
      "source": [
        "def cleanFiles(currentMem,exMem): #Delcaramos la funcion\n",
        "    with open(currentMem,'r+') as writeFile: #Abrimos el archvo a lectura y escritura\n",
        "        with open(exMem,'a+') as appendFile: #Abrimos el arcivo a anexion y lectura\n",
        "            \n",
        "            writeFile.seek(0) #Obtenemos la informacion\n",
        "            members = writeFile.readlines()\n",
        "           \n",
        "            header = members[0] #Con esto removemos el encabezado\n",
        "            members.pop(0)\n",
        "                \n",
        "            inactive = [member for member in members if ('no' in member)]\n",
        "          \n",
        "            \n",
        "            writeFile.seek(0)  #Nos posicionamos al inicio del archivo\n",
        "            writeFile.write(header)\n",
        "            for member in members:\n",
        "                if (member in inactive):\n",
        "                    appendFile.write(member)\n",
        "                else:\n",
        "                    writeFile.write(member)      \n",
        "            writeFile.truncate()\n",
        "                \n",
        "memReg = '/content/drive/MyDrive/EBSCO/miembros.txt'\n",
        "exReg = '/content/drive/MyDrive/EBSCO/inactivos.txt'\n",
        "cleanFiles(memReg,exReg)\n",
        "\n",
        "\n",
        "\n",
        "headers = \"No de Miembro No  Date Joined  Active  \\n\"\n",
        "\n",
        "#visualizamos el codigo\n",
        "\n",
        "with open(memReg,'r') as readFile:\n",
        "    print(\"Miembros activos: \\n\\n\")\n",
        "    print(readFile.read())\n",
        "    \n",
        "with open(exReg,'r') as readFile:\n",
        "    print(\"Miembros inactivos: \\n\\n\")\n",
        "    print(readFile.read())"
      ],
      "metadata": {
        "colab": {
          "base_uri": "https://localhost:8080/"
        },
        "id": "qMpf4Nh_r_a2",
        "outputId": "1f12c07c-8f79-46c3-bce0-e7049a71bc29"
      },
      "execution_count": 68,
      "outputs": [
        {
          "output_type": "stream",
          "name": "stdout",
          "text": [
            "Miembros activos: \n",
            "\n",
            "\n",
            "Num. memebresia  Fecha inicio  Active  \n",
            "    55182      2019-7-10    yes   \n",
            "    50879      2020-6-14    yes   \n",
            "    54616      2015-8-21    yes   \n",
            "    42696      2020-1-13    yes   \n",
            "    42529      2019-10-21   yes   \n",
            "    12670      2020-9-7     yes   \n",
            "    99796      2018-5-16    yes   \n",
            "    42899      2018-6-2     yes   \n",
            "    98179      2016-10-24   yes   \n",
            "    30886      2019-11-10   yes   \n",
            "    76529      2020-5-25    yes   \n",
            "\n",
            "Miembros inactivos: \n",
            "\n",
            "\n",
            "Num. memebresia  Fecha inicio  Active  \n",
            "    11414      2018-11-9    no    \n",
            "    81408      2019-1-24    no    \n",
            "    87925      2018-8-11    no    \n",
            "    81852      2017-6-4     no    \n",
            "    23007      2016-7-24    no    \n",
            "    71510      2020-10-1    no    \n",
            "    15054      2018-3-10    no    \n",
            "    24853      2015-3-14    no    \n",
            "    97815      2019-4-15    no    \n",
            "    38356      2017-8-12    no    \n",
            "    12570      2016-4-16    no    \n",
            "    60546      2015-2-13    no    \n",
            "\n"
          ]
        }
      ]
    },
    {
      "cell_type": "markdown",
      "source": [
        "***Modulo 4 - 3***"
      ],
      "metadata": {
        "id": "QFk2vs4kD0GO"
      }
    },
    {
      "cell_type": "code",
      "source": [
        "#Notas\n",
        "\n",
        "import pandas as pd #Importamos la libreria \"Pandas\" y la abreviamos como \"pd\"\n",
        "\n",
        "df = pd.read_csv(\"/content/drive/MyDrive/EBSCO/Base.csv\") #Mandamos a leer la base de datos \n",
        "\n",
        "\n",
        "print(df) #Con este codigo mandamos a imprimir nuestra base de datos\n",
        "\n",
        "print(\"\\n\")\n",
        "\n",
        "print(df.head()) #Con este codigo imprimimos las primeras 5 filas\n"
      ],
      "metadata": {
        "colab": {
          "base_uri": "https://localhost:8080/"
        },
        "id": "l-8X0iN5DeDY",
        "outputId": "d91d7150-91e9-4f10-91e6-f478f3fe42d9"
      },
      "execution_count": 4,
      "outputs": [
        {
          "output_type": "stream",
          "name": "stdout",
          "text": [
            "   Clase del profesoe Jobish\n",
            "0                      Mario\n",
            "1                   Fernando\n",
            "2                      Pablo\n",
            "3                  Carlonina\n",
            "4                     Rebeca\n",
            "5                      Kelly\n",
            "6                      David\n",
            "7                       Jose\n",
            "8                    Eduardo\n",
            "9                     Citali\n",
            "10                     Karen\n",
            "11                    Carmen\n",
            "12                     Juana\n",
            "\n",
            "\n",
            "  Clase del profesoe Jobish\n",
            "0                     Mario\n",
            "1                  Fernando\n",
            "2                     Pablo\n",
            "3                 Carlonina\n",
            "4                    Rebeca\n"
          ]
        }
      ]
    },
    {
      "cell_type": "code",
      "source": [
        "import pandas as pd #Volvemos a definir pandas como \"pd\"\n",
        "\n",
        "xlsx_path=\"/content/drive/MyDrive/EBSCO/Alumnos.xlsx\"\n",
        "\n",
        "df= pd.read_excel(xlsx_path) #lee el archivo xlsx\n",
        "df.head() #este codigo nos lee las primeras 5 columnas"
      ],
      "metadata": {
        "colab": {
          "base_uri": "https://localhost:8080/",
          "height": 206
        },
        "id": "zXVrd7zq2xVK",
        "outputId": "b88f3ec8-83ce-4d7f-c858-70bda2f22dea"
      },
      "execution_count": 5,
      "outputs": [
        {
          "output_type": "execute_result",
          "data": {
            "text/plain": [
              "   Maricula          Nomebre       Campus\n",
              "0    156156  Maria Espindola    Monterrey\n",
              "1    512347    Jose Hernadez         CDMX\n",
              "2    354791     Andrea Tadeo         CDMX\n",
              "3    512746     Max Albuerne          Qro\n",
              "4    965787    David Quijano  Guadalajara"
            ],
            "text/html": [
              "\n",
              "  <div id=\"df-25063f51-15ad-41f3-b9f9-98b8b7391536\">\n",
              "    <div class=\"colab-df-container\">\n",
              "      <div>\n",
              "<style scoped>\n",
              "    .dataframe tbody tr th:only-of-type {\n",
              "        vertical-align: middle;\n",
              "    }\n",
              "\n",
              "    .dataframe tbody tr th {\n",
              "        vertical-align: top;\n",
              "    }\n",
              "\n",
              "    .dataframe thead th {\n",
              "        text-align: right;\n",
              "    }\n",
              "</style>\n",
              "<table border=\"1\" class=\"dataframe\">\n",
              "  <thead>\n",
              "    <tr style=\"text-align: right;\">\n",
              "      <th></th>\n",
              "      <th>Maricula</th>\n",
              "      <th>Nomebre</th>\n",
              "      <th>Campus</th>\n",
              "    </tr>\n",
              "  </thead>\n",
              "  <tbody>\n",
              "    <tr>\n",
              "      <th>0</th>\n",
              "      <td>156156</td>\n",
              "      <td>Maria Espindola</td>\n",
              "      <td>Monterrey</td>\n",
              "    </tr>\n",
              "    <tr>\n",
              "      <th>1</th>\n",
              "      <td>512347</td>\n",
              "      <td>Jose Hernadez</td>\n",
              "      <td>CDMX</td>\n",
              "    </tr>\n",
              "    <tr>\n",
              "      <th>2</th>\n",
              "      <td>354791</td>\n",
              "      <td>Andrea Tadeo</td>\n",
              "      <td>CDMX</td>\n",
              "    </tr>\n",
              "    <tr>\n",
              "      <th>3</th>\n",
              "      <td>512746</td>\n",
              "      <td>Max Albuerne</td>\n",
              "      <td>Qro</td>\n",
              "    </tr>\n",
              "    <tr>\n",
              "      <th>4</th>\n",
              "      <td>965787</td>\n",
              "      <td>David Quijano</td>\n",
              "      <td>Guadalajara</td>\n",
              "    </tr>\n",
              "  </tbody>\n",
              "</table>\n",
              "</div>\n",
              "      <button class=\"colab-df-convert\" onclick=\"convertToInteractive('df-25063f51-15ad-41f3-b9f9-98b8b7391536')\"\n",
              "              title=\"Convert this dataframe to an interactive table.\"\n",
              "              style=\"display:none;\">\n",
              "        \n",
              "  <svg xmlns=\"http://www.w3.org/2000/svg\" height=\"24px\"viewBox=\"0 0 24 24\"\n",
              "       width=\"24px\">\n",
              "    <path d=\"M0 0h24v24H0V0z\" fill=\"none\"/>\n",
              "    <path d=\"M18.56 5.44l.94 2.06.94-2.06 2.06-.94-2.06-.94-.94-2.06-.94 2.06-2.06.94zm-11 1L8.5 8.5l.94-2.06 2.06-.94-2.06-.94L8.5 2.5l-.94 2.06-2.06.94zm10 10l.94 2.06.94-2.06 2.06-.94-2.06-.94-.94-2.06-.94 2.06-2.06.94z\"/><path d=\"M17.41 7.96l-1.37-1.37c-.4-.4-.92-.59-1.43-.59-.52 0-1.04.2-1.43.59L10.3 9.45l-7.72 7.72c-.78.78-.78 2.05 0 2.83L4 21.41c.39.39.9.59 1.41.59.51 0 1.02-.2 1.41-.59l7.78-7.78 2.81-2.81c.8-.78.8-2.07 0-2.86zM5.41 20L4 18.59l7.72-7.72 1.47 1.35L5.41 20z\"/>\n",
              "  </svg>\n",
              "      </button>\n",
              "      \n",
              "  <style>\n",
              "    .colab-df-container {\n",
              "      display:flex;\n",
              "      flex-wrap:wrap;\n",
              "      gap: 12px;\n",
              "    }\n",
              "\n",
              "    .colab-df-convert {\n",
              "      background-color: #E8F0FE;\n",
              "      border: none;\n",
              "      border-radius: 50%;\n",
              "      cursor: pointer;\n",
              "      display: none;\n",
              "      fill: #1967D2;\n",
              "      height: 32px;\n",
              "      padding: 0 0 0 0;\n",
              "      width: 32px;\n",
              "    }\n",
              "\n",
              "    .colab-df-convert:hover {\n",
              "      background-color: #E2EBFA;\n",
              "      box-shadow: 0px 1px 2px rgba(60, 64, 67, 0.3), 0px 1px 3px 1px rgba(60, 64, 67, 0.15);\n",
              "      fill: #174EA6;\n",
              "    }\n",
              "\n",
              "    [theme=dark] .colab-df-convert {\n",
              "      background-color: #3B4455;\n",
              "      fill: #D2E3FC;\n",
              "    }\n",
              "\n",
              "    [theme=dark] .colab-df-convert:hover {\n",
              "      background-color: #434B5C;\n",
              "      box-shadow: 0px 1px 3px 1px rgba(0, 0, 0, 0.15);\n",
              "      filter: drop-shadow(0px 1px 2px rgba(0, 0, 0, 0.3));\n",
              "      fill: #FFFFFF;\n",
              "    }\n",
              "  </style>\n",
              "\n",
              "      <script>\n",
              "        const buttonEl =\n",
              "          document.querySelector('#df-25063f51-15ad-41f3-b9f9-98b8b7391536 button.colab-df-convert');\n",
              "        buttonEl.style.display =\n",
              "          google.colab.kernel.accessAllowed ? 'block' : 'none';\n",
              "\n",
              "        async function convertToInteractive(key) {\n",
              "          const element = document.querySelector('#df-25063f51-15ad-41f3-b9f9-98b8b7391536');\n",
              "          const dataTable =\n",
              "            await google.colab.kernel.invokeFunction('convertToInteractive',\n",
              "                                                     [key], {});\n",
              "          if (!dataTable) return;\n",
              "\n",
              "          const docLinkHtml = 'Like what you see? Visit the ' +\n",
              "            '<a target=\"_blank\" href=https://colab.research.google.com/notebooks/data_table.ipynb>data table notebook</a>'\n",
              "            + ' to learn more about interactive tables.';\n",
              "          element.innerHTML = '';\n",
              "          dataTable['output_type'] = 'display_data';\n",
              "          await google.colab.output.renderOutput(dataTable, element);\n",
              "          const docLink = document.createElement('div');\n",
              "          docLink.innerHTML = docLinkHtml;\n",
              "          element.appendChild(docLink);\n",
              "        }\n",
              "      </script>\n",
              "    </div>\n",
              "  </div>\n",
              "  "
            ]
          },
          "metadata": {},
          "execution_count": 5
        }
      ]
    },
    {
      "cell_type": "code",
      "source": [
        "import pandas as pd #Volvemos a definir pandas como \"pd\"\n",
        "\n",
        "Libro = {'Libro':['One Hundred Years of Solitude','Hopscotch', 'Ficciones'], 'Autor' :['Gabriel Garcia Marquez', 'Julio Cortazar','Jorge Luis Borges'], 'Año' :['1982', '1975', '2006']}\n",
        "Libros_frame = pd.DataFrame(Libro) #Comvertimos nuestro diccionario en lista\n",
        "\n",
        "Libros_frame.head() #Manamos a imrpimir\n",
        "\n",
        "\n",
        "\n",
        "\n",
        "\n",
        "\n",
        "\n"
      ],
      "metadata": {
        "colab": {
          "base_uri": "https://localhost:8080/",
          "height": 143
        },
        "id": "SqBmWvKK_ThI",
        "outputId": "3835e3a3-b81c-4099-b3f1-82c9f063b11e"
      },
      "execution_count": 16,
      "outputs": [
        {
          "output_type": "execute_result",
          "data": {
            "text/plain": [
              "                           Libro                   Autor   Año\n",
              "0  One Hundred Years of Solitude  Gabriel Garcia Marquez  1982\n",
              "1                      Hopscotch          Julio Cortazar  1975\n",
              "2                      Ficciones       Jorge Luis Borges  2006"
            ],
            "text/html": [
              "\n",
              "  <div id=\"df-ddd24340-7ee4-4434-a4f9-3f9f1cbd096b\">\n",
              "    <div class=\"colab-df-container\">\n",
              "      <div>\n",
              "<style scoped>\n",
              "    .dataframe tbody tr th:only-of-type {\n",
              "        vertical-align: middle;\n",
              "    }\n",
              "\n",
              "    .dataframe tbody tr th {\n",
              "        vertical-align: top;\n",
              "    }\n",
              "\n",
              "    .dataframe thead th {\n",
              "        text-align: right;\n",
              "    }\n",
              "</style>\n",
              "<table border=\"1\" class=\"dataframe\">\n",
              "  <thead>\n",
              "    <tr style=\"text-align: right;\">\n",
              "      <th></th>\n",
              "      <th>Libro</th>\n",
              "      <th>Autor</th>\n",
              "      <th>Año</th>\n",
              "    </tr>\n",
              "  </thead>\n",
              "  <tbody>\n",
              "    <tr>\n",
              "      <th>0</th>\n",
              "      <td>One Hundred Years of Solitude</td>\n",
              "      <td>Gabriel Garcia Marquez</td>\n",
              "      <td>1982</td>\n",
              "    </tr>\n",
              "    <tr>\n",
              "      <th>1</th>\n",
              "      <td>Hopscotch</td>\n",
              "      <td>Julio Cortazar</td>\n",
              "      <td>1975</td>\n",
              "    </tr>\n",
              "    <tr>\n",
              "      <th>2</th>\n",
              "      <td>Ficciones</td>\n",
              "      <td>Jorge Luis Borges</td>\n",
              "      <td>2006</td>\n",
              "    </tr>\n",
              "  </tbody>\n",
              "</table>\n",
              "</div>\n",
              "      <button class=\"colab-df-convert\" onclick=\"convertToInteractive('df-ddd24340-7ee4-4434-a4f9-3f9f1cbd096b')\"\n",
              "              title=\"Convert this dataframe to an interactive table.\"\n",
              "              style=\"display:none;\">\n",
              "        \n",
              "  <svg xmlns=\"http://www.w3.org/2000/svg\" height=\"24px\"viewBox=\"0 0 24 24\"\n",
              "       width=\"24px\">\n",
              "    <path d=\"M0 0h24v24H0V0z\" fill=\"none\"/>\n",
              "    <path d=\"M18.56 5.44l.94 2.06.94-2.06 2.06-.94-2.06-.94-.94-2.06-.94 2.06-2.06.94zm-11 1L8.5 8.5l.94-2.06 2.06-.94-2.06-.94L8.5 2.5l-.94 2.06-2.06.94zm10 10l.94 2.06.94-2.06 2.06-.94-2.06-.94-.94-2.06-.94 2.06-2.06.94z\"/><path d=\"M17.41 7.96l-1.37-1.37c-.4-.4-.92-.59-1.43-.59-.52 0-1.04.2-1.43.59L10.3 9.45l-7.72 7.72c-.78.78-.78 2.05 0 2.83L4 21.41c.39.39.9.59 1.41.59.51 0 1.02-.2 1.41-.59l7.78-7.78 2.81-2.81c.8-.78.8-2.07 0-2.86zM5.41 20L4 18.59l7.72-7.72 1.47 1.35L5.41 20z\"/>\n",
              "  </svg>\n",
              "      </button>\n",
              "      \n",
              "  <style>\n",
              "    .colab-df-container {\n",
              "      display:flex;\n",
              "      flex-wrap:wrap;\n",
              "      gap: 12px;\n",
              "    }\n",
              "\n",
              "    .colab-df-convert {\n",
              "      background-color: #E8F0FE;\n",
              "      border: none;\n",
              "      border-radius: 50%;\n",
              "      cursor: pointer;\n",
              "      display: none;\n",
              "      fill: #1967D2;\n",
              "      height: 32px;\n",
              "      padding: 0 0 0 0;\n",
              "      width: 32px;\n",
              "    }\n",
              "\n",
              "    .colab-df-convert:hover {\n",
              "      background-color: #E2EBFA;\n",
              "      box-shadow: 0px 1px 2px rgba(60, 64, 67, 0.3), 0px 1px 3px 1px rgba(60, 64, 67, 0.15);\n",
              "      fill: #174EA6;\n",
              "    }\n",
              "\n",
              "    [theme=dark] .colab-df-convert {\n",
              "      background-color: #3B4455;\n",
              "      fill: #D2E3FC;\n",
              "    }\n",
              "\n",
              "    [theme=dark] .colab-df-convert:hover {\n",
              "      background-color: #434B5C;\n",
              "      box-shadow: 0px 1px 3px 1px rgba(0, 0, 0, 0.15);\n",
              "      filter: drop-shadow(0px 1px 2px rgba(0, 0, 0, 0.3));\n",
              "      fill: #FFFFFF;\n",
              "    }\n",
              "  </style>\n",
              "\n",
              "      <script>\n",
              "        const buttonEl =\n",
              "          document.querySelector('#df-ddd24340-7ee4-4434-a4f9-3f9f1cbd096b button.colab-df-convert');\n",
              "        buttonEl.style.display =\n",
              "          google.colab.kernel.accessAllowed ? 'block' : 'none';\n",
              "\n",
              "        async function convertToInteractive(key) {\n",
              "          const element = document.querySelector('#df-ddd24340-7ee4-4434-a4f9-3f9f1cbd096b');\n",
              "          const dataTable =\n",
              "            await google.colab.kernel.invokeFunction('convertToInteractive',\n",
              "                                                     [key], {});\n",
              "          if (!dataTable) return;\n",
              "\n",
              "          const docLinkHtml = 'Like what you see? Visit the ' +\n",
              "            '<a target=\"_blank\" href=https://colab.research.google.com/notebooks/data_table.ipynb>data table notebook</a>'\n",
              "            + ' to learn more about interactive tables.';\n",
              "          element.innerHTML = '';\n",
              "          dataTable['output_type'] = 'display_data';\n",
              "          await google.colab.output.renderOutput(dataTable, element);\n",
              "          const docLink = document.createElement('div');\n",
              "          docLink.innerHTML = docLinkHtml;\n",
              "          element.appendChild(docLink);\n",
              "        }\n",
              "      </script>\n",
              "    </div>\n",
              "  </div>\n",
              "  "
            ]
          },
          "metadata": {},
          "execution_count": 16
        }
      ]
    },
    {
      "cell_type": "code",
      "source": [
        "import pandas as pd #Volvemos a definir pandas como \"pd\"\n",
        "\n",
        "Libro = {'Libro':['One Hundred Years of Solitude','Hopscotch', 'Ficciones'], 'Autor' :['Gabriel Garcia Marquez', 'Julio Cortazar','Jorge Luis Borges'], 'Año' :['1982', '1975', '2006']}\n",
        "Libros_frame = pd.DataFrame(Libro) #Comvertimos nuestro diccionario en lista\n",
        "\n",
        "Libros_frame.iloc[1,0] #Con esto rimprimimos el contenido de la segunda fila primera columna"
      ],
      "metadata": {
        "colab": {
          "base_uri": "https://localhost:8080/",
          "height": 36
        },
        "id": "bIGx500KBn7O",
        "outputId": "a65a2ab7-9c80-4c65-c8ca-fb13d8721c2b"
      },
      "execution_count": 17,
      "outputs": [
        {
          "output_type": "execute_result",
          "data": {
            "text/plain": [
              "'Hopscotch'"
            ],
            "application/vnd.google.colaboratory.intrinsic+json": {
              "type": "string"
            }
          },
          "metadata": {},
          "execution_count": 17
        }
      ]
    },
    {
      "cell_type": "code",
      "source": [
        "import pandas as pd #Volvemos a definir pandas como \"pd\"\n",
        "\n",
        "Libro = {'Libro':['One Hundred Years of Solitude','Hopscotch', 'Ficciones'], 'Autor' :['Gabriel Garcia Marquez', 'Julio Cortazar','Jorge Luis Borges'], 'Año' :['1982', '1975', '2006']}\n",
        "Libros_frame = pd.DataFrame(Libro) #Comvertimos nuestro diccionario en lista\n",
        "\n",
        "Libros_frame['Año']==\"1975\" "
      ],
      "metadata": {
        "colab": {
          "base_uri": "https://localhost:8080/"
        },
        "id": "HXA0S5SDD1Mv",
        "outputId": "32d94079-ff04-4ad0-b5f7-6a421d608ebf"
      },
      "execution_count": 28,
      "outputs": [
        {
          "output_type": "execute_result",
          "data": {
            "text/plain": [
              "0    False\n",
              "1     True\n",
              "2    False\n",
              "Name: Año, dtype: bool"
            ]
          },
          "metadata": {},
          "execution_count": 28
        }
      ]
    }
  ]
}