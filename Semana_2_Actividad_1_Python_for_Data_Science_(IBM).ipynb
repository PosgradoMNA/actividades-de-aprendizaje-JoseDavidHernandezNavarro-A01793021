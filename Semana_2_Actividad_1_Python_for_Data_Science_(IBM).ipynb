{
  "nbformat": 4,
  "nbformat_minor": 0,
  "metadata": {
    "colab": {
      "provenance": [],
      "mount_file_id": "1EKsleOLolESm1_37rv42tskVbkuRFYYC",
      "authorship_tag": "ABX9TyOwsUIhhTMbNvrm/NXrtHU/",
      "include_colab_link": true
    },
    "kernelspec": {
      "name": "python3",
      "display_name": "Python 3"
    },
    "language_info": {
      "name": "python"
    }
  },
  "cells": [
    {
      "cell_type": "markdown",
      "metadata": {
        "id": "view-in-github",
        "colab_type": "text"
      },
      "source": [
        "<a href=\"https://colab.research.google.com/github/PosgradoMNA/actividades-de-aprendizaje-JoseDavidHernandezNavarro-A01793021/blob/main/Semana_2_Actividad_1_Python_for_Data_Science_(IBM).ipynb\" target=\"_parent\"><img src=\"https://colab.research.google.com/assets/colab-badge.svg\" alt=\"Open In Colab\"/></a>"
      ]
    },
    {
      "cell_type": "markdown",
      "source": [
        "\n",
        "**José David Hernandez Navarro**\n",
        "\n",
        "---\n",
        "\n",
        "**A011793021**\n",
        "\n",
        "---\n"
      ],
      "metadata": {
        "id": "maQDwoG5UJ1x"
      }
    },
    {
      "cell_type": "markdown",
      "source": [
        "*Modulo 4*"
      ],
      "metadata": {
        "id": "NO3WGmahUbvS"
      }
    },
    {
      "cell_type": "code",
      "execution_count": 17,
      "metadata": {
        "colab": {
          "base_uri": "https://localhost:8080/"
        },
        "id": "SAubOiKVUGK1",
        "outputId": "5a5b31a1-1153-41d9-d9a6-1fcda43abe27"
      },
      "outputs": [
        {
          "output_type": "stream",
          "name": "stdout",
          "text": [
            "hola\n",
            "me gusta\n",
            "la vida\n"
          ]
        }
      ],
      "source": [
        "#Reading Files Python\n",
        "\n",
        "with open(\"/content/drive/MyDrive/EBSCO/prueba.txt\",\"r\") as File1:\n",
        "\n",
        "  file_stuff=File1.read()\n",
        "  \n",
        "  print(file_stuff)\n",
        "\n",
        "  #print(File1.closed)\n",
        "  #print(file_stuff)\n",
        "\n"
      ]
    },
    {
      "cell_type": "code",
      "source": [
        "with open(\"/content/drive/MyDrive/EBSCO/prueba.txt\",\"r\") as File1:\n",
        "  file_stuff=File1.readlines()\n",
        "  print(file_stuff)"
      ],
      "metadata": {
        "colab": {
          "base_uri": "https://localhost:8080/"
        },
        "id": "Z9lXdds9afQB",
        "outputId": "d1df54b3-81a1-42c0-dcec-a37ba8a22e05"
      },
      "execution_count": 18,
      "outputs": [
        {
          "output_type": "stream",
          "name": "stdout",
          "text": [
            "['hola\\n', 'me gusta\\n', 'la vida']\n"
          ]
        }
      ]
    },
    {
      "cell_type": "code",
      "source": [
        "#Lectura de archivos .TXT\n",
        "example1 = \"/content/drive/MyDrive/EBSCO/Ejemplo1.txt\"\n",
        "file1 = open(example1, \"r\")\n",
        "\n",
        "\n",
        "print(file1.name) #Imprime la ruta del archivo\n",
        "print(file1.mode) #Imprime el modo en el que se encuentra el archivo\n",
        "\n",
        "FileContent = file1.read() #Lee el contenido del archivo TXT\n",
        "print(FileContent)\n",
        "\n",
        "print(type(FileContent)) #Imprime el tipo del contenido del TXT\n",
        "file1.close()"
      ],
      "metadata": {
        "colab": {
          "base_uri": "https://localhost:8080/"
        },
        "id": "mTn_dQwwfTyP",
        "outputId": "1cd61257-4af5-4b49-bd4b-535f9971e017"
      },
      "execution_count": 20,
      "outputs": [
        {
          "output_type": "stream",
          "name": "stdout",
          "text": [
            "/content/drive/MyDrive/EBSCO/Ejemplo1.txt\n",
            "r\n",
            "Hola Maestro Jobish\n",
            "Me gusta\n",
            "Programar\n",
            "<class 'str'>\n"
          ]
        }
      ]
    },
    {
      "cell_type": "code",
      "source": [
        "#Otra forma de abrir un archivo\n",
        "\n",
        "with open(example1, \"r\") as file1:\n",
        "    FileContent = file1.read()\n",
        "    print(FileContent)"
      ],
      "metadata": {
        "colab": {
          "base_uri": "https://localhost:8080/"
        },
        "id": "TOIyDumsUAHY",
        "outputId": "4fce9f7b-9107-4df2-8979-515466ae329c"
      },
      "execution_count": 22,
      "outputs": [
        {
          "output_type": "stream",
          "name": "stdout",
          "text": [
            "Hola Maestro Jobish\n",
            "Me gusta\n",
            "Programar\n"
          ]
        }
      ]
    },
    {
      "cell_type": "code",
      "source": [
        "estado = file1.closed #Se confirma si el archivo esta cerrado o abierto\n",
        "print(estado)\n",
        "\n",
        "\n",
        "num_caracteres = 19 #Lee los caracteres que deseemos\n",
        "with open(example1, \"r\") as file1: \n",
        "    print(file1.read(num_caracteres))\n",
        "\n"
      ],
      "metadata": {
        "colab": {
          "base_uri": "https://localhost:8080/"
        },
        "id": "jHlLo2InTaCn",
        "outputId": "96776f4f-ff64-43c6-d36d-d50b7f42924d"
      },
      "execution_count": 34,
      "outputs": [
        {
          "output_type": "stream",
          "name": "stdout",
          "text": [
            "True\n",
            "Hola Maestro Jobish\n"
          ]
        }
      ]
    },
    {
      "cell_type": "code",
      "source": [
        "with open(example1, \"r\") as file1: #Lee los numeros de caracteres que deseemos pero si se aplica de nuevo continua donde esta\n",
        "    print(file1.read(16))\n",
        "    print(file1.read(5))\n",
        "    print(file1.read(9))\n",
        "    print(file1.read(8))"
      ],
      "metadata": {
        "colab": {
          "base_uri": "https://localhost:8080/"
        },
        "id": "wCmHSdxjh8mB",
        "outputId": "a858e4e8-1aa6-4755-8864-f57bb1d868c8"
      },
      "execution_count": 37,
      "outputs": [
        {
          "output_type": "stream",
          "name": "stdout",
          "text": [
            "Hola Maestro Job\n",
            "ish\n",
            "M\n",
            "e gusta\n",
            "P\n",
            "rogramar\n"
          ]
        }
      ]
    },
    {
      "cell_type": "code",
      "source": [
        "with open(example1, \"r\") as file1:\n",
        "    print(file1.readline(19)) #Con esto no leemos la cantidad de carcateres de la priemra lina\n",
        "    print(file1.read(19)) # Returns the next 20 chars\n"
      ],
      "metadata": {
        "colab": {
          "base_uri": "https://localhost:8080/"
        },
        "id": "ZAhojJSqifj3",
        "outputId": "031899bb-af33-4118-8496-bca0360aa5ac"
      },
      "execution_count": 50,
      "outputs": [
        {
          "output_type": "stream",
          "name": "stdout",
          "text": [
            "Hola Maestro Jobish\n",
            "\n",
            "Me gusta\n",
            "Programar\n"
          ]
        }
      ]
    },
    {
      "cell_type": "code",
      "source": [
        "with open(example1,\"r\") as file1: #Separa y marca cada uno de los renglones\n",
        "        i = 0;\n",
        "        for line in file1:\n",
        "            print(\"Renglon\", str(i), \": \", line)\n",
        "            i = i + 1"
      ],
      "metadata": {
        "colab": {
          "base_uri": "https://localhost:8080/"
        },
        "id": "TzwFoD0DjZrH",
        "outputId": "50348046-633e-4786-e139-0ae958a66af1"
      },
      "execution_count": 53,
      "outputs": [
        {
          "output_type": "stream",
          "name": "stdout",
          "text": [
            "Renglon 0 :  Hola Maestro Jobish\n",
            "\n",
            "Renglon 1 :  Me gusta\n",
            "\n",
            "Renglon 2 :  Programar\n"
          ]
        }
      ]
    },
    {
      "cell_type": "code",
      "source": [
        "with open(example1, \"r\") as file1: #guarda los elementos del TXT como lista\n",
        "    FileasList = file1.readlines()"
      ],
      "metadata": {
        "id": "-vt11kmTjrtG"
      },
      "execution_count": 55,
      "outputs": []
    },
    {
      "cell_type": "code",
      "source": [
        "print(FileasList[0]) #Imprimer la linea que deseemos de la lista, ene ste caso la primera\n",
        "print(FileasList[2]) #Nuevamente imprime la linea que uno desee, en este caso la tercera"
      ],
      "metadata": {
        "colab": {
          "base_uri": "https://localhost:8080/"
        },
        "id": "XQLhQMACjzrF",
        "outputId": "097883ae-4927-4257-84e9-7f38bc40dd50"
      },
      "execution_count": 60,
      "outputs": [
        {
          "output_type": "stream",
          "name": "stdout",
          "text": [
            "Hola Maestro Jobish\n",
            "\n",
            "Programar\n"
          ]
        }
      ]
    }
  ]
}