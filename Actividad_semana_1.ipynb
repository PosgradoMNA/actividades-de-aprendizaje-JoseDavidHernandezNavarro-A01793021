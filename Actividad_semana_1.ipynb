{
  "nbformat": 4,
  "nbformat_minor": 0,
  "metadata": {
    "colab": {
      "provenance": [],
      "authorship_tag": "ABX9TyN3umB3fydCjk4mEE2rjL4P",
      "include_colab_link": true
    },
    "kernelspec": {
      "name": "python3",
      "display_name": "Python 3"
    },
    "language_info": {
      "name": "python"
    }
  },
  "cells": [
    {
      "cell_type": "markdown",
      "metadata": {
        "id": "view-in-github",
        "colab_type": "text"
      },
      "source": [
        "<a href=\"https://colab.research.google.com/github/PosgradoMNA/actividades-de-aprendizaje-Navaja96/blob/main/Actividad_semana_1.ipynb\" target=\"_parent\"><img src=\"https://colab.research.google.com/assets/colab-badge.svg\" alt=\"Open In Colab\"/></a>"
      ]
    },
    {
      "cell_type": "code",
      "execution_count": 1,
      "metadata": {
        "colab": {
          "base_uri": "https://localhost:8080/"
        },
        "id": "i2X9DQB5CHgU",
        "outputId": "76a6bb43-f2c9-43da-ee4b-0f0fc726a0ba"
      },
      "outputs": [
        {
          "output_type": "stream",
          "name": "stdout",
          "text": [
            "Hello Python 101\n"
          ]
        }
      ],
      "source": [
        "#Jose David Hernandez Navarro\n",
        "#A01793021\n",
        "#Modulo 1\n",
        "print('Hello Python 101')"
      ]
    },
    {
      "cell_type": "code",
      "source": [
        "deci=float(2) \n",
        "print(deci)\n",
        "\n",
        "ente=int(1.1)\n",
        "print(ente)\n",
        "\n",
        "let=('1')\n",
        "print(let)\n",
        "\n",
        "string=str(1)\n",
        "print(string)\n",
        "\n",
        "tipo=type(True)\n",
        "str(tipo)\n",
        "print(tipo)\n",
        "\n",
        "res=bool(1)\n",
        "print(res)"
      ],
      "metadata": {
        "colab": {
          "base_uri": "https://localhost:8080/"
        },
        "id": "VN3KDWZwW_ix",
        "outputId": "42c314a4-9df6-4d05-fee2-dca9f0aef354"
      },
      "execution_count": 24,
      "outputs": [
        {
          "output_type": "stream",
          "name": "stdout",
          "text": [
            "2.0\n",
            "1\n",
            "1\n",
            "1\n",
            "<class 'bool'>\n",
            "True\n"
          ]
        }
      ]
    },
    {
      "cell_type": "code",
      "source": [
        "sum=43+60+16+41\n",
        "print(sum)\n",
        "res=100-30\n",
        "print(res)\n",
        "div=11/4\n",
        "print(div)\n",
        "div2=11//4\n",
        "print(div2)\n",
        "mix=2*15+60/78\n",
        "print(mix)\n",
        "x=160\n",
        "y=x/60\n",
        "print(y)"
      ],
      "metadata": {
        "colab": {
          "base_uri": "https://localhost:8080/"
        },
        "id": "pJwSkCm_a5fe",
        "outputId": "3e87b3af-4590-448a-ab20-f611b412d795"
      },
      "execution_count": 37,
      "outputs": [
        {
          "output_type": "stream",
          "name": "stdout",
          "text": [
            "160\n",
            "70\n",
            "2.75\n",
            "2\n",
            "30.76923076923077\n",
            "2.6666666666666665\n"
          ]
        }
      ]
    },
    {
      "cell_type": "code",
      "source": [],
      "metadata": {
        "id": "QylnpXeve-mB"
      },
      "execution_count": null,
      "outputs": []
    }
  ]
}