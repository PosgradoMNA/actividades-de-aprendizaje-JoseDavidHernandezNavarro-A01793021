{
  "nbformat": 4,
  "nbformat_minor": 0,
  "metadata": {
    "colab": {
      "provenance": [],
      "authorship_tag": "ABX9TyOU3K7EUekJ84TZa+uk7s/O",
      "include_colab_link": true
    },
    "kernelspec": {
      "name": "python3",
      "display_name": "Python 3"
    },
    "language_info": {
      "name": "python"
    }
  },
  "cells": [
    {
      "cell_type": "markdown",
      "metadata": {
        "id": "view-in-github",
        "colab_type": "text"
      },
      "source": [
        "<a href=\"https://colab.research.google.com/github/PosgradoMNA/actividades-de-aprendizaje-Navaja96/blob/main/Actividad_semana_1.ipynb\" target=\"_parent\"><img src=\"https://colab.research.google.com/assets/colab-badge.svg\" alt=\"Open In Colab\"/></a>"
      ]
    },
    {
      "cell_type": "markdown",
      "source": [
        "\n",
        "**José David Hernandez Navarro**\n",
        "\n",
        "---\n",
        "\n",
        "**A011793021**\n",
        "\n",
        "---\n",
        "\n",
        "\n"
      ],
      "metadata": {
        "id": "TILTyirRg7iu"
      }
    },
    {
      "cell_type": "markdown",
      "source": [
        "*Modulo 1*"
      ],
      "metadata": {
        "id": "6bGKz2w9hd3P"
      }
    },
    {
      "cell_type": "code",
      "execution_count": 1,
      "metadata": {
        "colab": {
          "base_uri": "https://localhost:8080/"
        },
        "id": "i2X9DQB5CHgU",
        "outputId": "76a6bb43-f2c9-43da-ee4b-0f0fc726a0ba"
      },
      "outputs": [
        {
          "output_type": "stream",
          "name": "stdout",
          "text": [
            "Hello Python 101\n"
          ]
        }
      ],
      "source": [
        "print('Hello Python 101')"
      ]
    },
    {
      "cell_type": "code",
      "source": [
        "deci=float(2) \n",
        "print(deci)\n",
        "\n",
        "ente=int(1.1)\n",
        "print(ente)\n",
        "\n",
        "let=('1')\n",
        "print(let)\n",
        "\n",
        "string=str(1)\n",
        "print(string)\n",
        "\n",
        "tipo=type(True)\n",
        "str(tipo)\n",
        "print(tipo)\n",
        "\n",
        "res=bool(1)\n",
        "print(res)"
      ],
      "metadata": {
        "colab": {
          "base_uri": "https://localhost:8080/"
        },
        "id": "VN3KDWZwW_ix",
        "outputId": "42c314a4-9df6-4d05-fee2-dca9f0aef354"
      },
      "execution_count": 24,
      "outputs": [
        {
          "output_type": "stream",
          "name": "stdout",
          "text": [
            "2.0\n",
            "1\n",
            "1\n",
            "1\n",
            "<class 'bool'>\n",
            "True\n"
          ]
        }
      ]
    },
    {
      "cell_type": "code",
      "source": [
        "sum=43+60+16+41\n",
        "print(sum)\n",
        "\n",
        "res=100-30\n",
        "print(res)\n",
        "\n",
        "div=11/4\n",
        "print(div)\n",
        "\n",
        "div2=11//4\n",
        "print(div2)\n",
        "\n",
        "mix=2*15+60/78\n",
        "print(mix)\n",
        "\n",
        "x=160\n",
        "y=x/60\n",
        "print(y)"
      ],
      "metadata": {
        "colab": {
          "base_uri": "https://localhost:8080/"
        },
        "id": "pJwSkCm_a5fe",
        "outputId": "3e87b3af-4590-448a-ab20-f611b412d795"
      },
      "execution_count": 37,
      "outputs": [
        {
          "output_type": "stream",
          "name": "stdout",
          "text": [
            "160\n",
            "70\n",
            "2.75\n",
            "2\n",
            "30.76923076923077\n",
            "2.6666666666666665\n"
          ]
        }
      ]
    },
    {
      "cell_type": "code",
      "source": [
        "Name=\"David Navarro\"\n",
        "print (Name[0:4])\n",
        "print (Name[1])\n",
        "print (Name[-1])\n",
        "print (Name[::2])\n",
        "print(len(Name))\n",
        "Satatement = Name +\" is learning Python\"\n",
        "print(Satatement)\n",
        "Mayus=Name.upper()\n",
        "print(Mayus)"
      ],
      "metadata": {
        "colab": {
          "base_uri": "https://localhost:8080/"
        },
        "id": "QylnpXeve-mB",
        "outputId": "32304e98-c816-4fbb-9c9f-7be39c759a0b"
      },
      "execution_count": 53,
      "outputs": [
        {
          "output_type": "stream",
          "name": "stdout",
          "text": [
            "Davi\n",
            "a\n",
            "o\n",
            "DvdNvro\n",
            "13\n",
            "David Navarro is learning Python\n",
            "DAVID NAVARRO\n"
          ]
        }
      ]
    },
    {
      "cell_type": "markdown",
      "source": [
        "*Modulo 2*"
      ],
      "metadata": {
        "id": "M4jacxGSmbS9"
      }
    },
    {
      "cell_type": "code",
      "source": [
        "Ratings =(\"D\",9,\"A\",5,\"V\",8,\"I\",6,\"D\")\n",
        "print(Ratings[0])\n",
        "tuple2=Ratings+(\" Navarro\",96)\n",
        "print(Ratings[0]+ tuple2[9])\n",
        "\n",
        "L=[\"David Navarro\", 15,4,1996]\n",
        "print(L[0])\n",
        "\n"
      ],
      "metadata": {
        "colab": {
          "base_uri": "https://localhost:8080/"
        },
        "id": "UJAzINVvmg9V",
        "outputId": "99bbb995-50bd-44b0-ec80-5a8bf7538343"
      },
      "execution_count": 81,
      "outputs": [
        {
          "output_type": "stream",
          "name": "stdout",
          "text": [
            "D\n",
            "D Navarro\n",
            "David Navarro\n"
          ]
        }
      ]
    },
    {
      "cell_type": "code",
      "source": [
        "from pickle import DICT\n",
        "Movie_list=[\"El trasportador\", \"Accion\",\"Accion\",2005]\n",
        "Movie_set=set(Movie_list)\n",
        "print(Movie_set)\n",
        "\n",
        "color={\"Rojo\",\"Blanco\",\"Azul\", \"Verde\"}\n",
        "print(A)\n",
        "color.add(\"Negro\")\n",
        "print(color)\n",
        "color.remove(\"Blanco\")\n",
        "print(color)\n",
        "\n",
        "S={'A','B','C'}\n",
        "U={'A','Z','C'}\n",
        "U.union(S)\n",
        "print(U)\n",
        "\n",
        "\n",
        "\n"
      ],
      "metadata": {
        "colab": {
          "base_uri": "https://localhost:8080/"
        },
        "id": "ddeS6fG4qbZD",
        "outputId": "5352b785-dbc7-40c5-b400-7f84b8c3c26d"
      },
      "execution_count": 125,
      "outputs": [
        {
          "output_type": "stream",
          "name": "stdout",
          "text": [
            "{'El trasportador', 'Accion', 2005}\n",
            "['Rojo', 'Blanco', 'Azul', 'Verde']\n",
            "{'Negro', 'Azul', 'Rojo', 'Blanco', 'Verde'}\n",
            "{'Negro', 'Azul', 'Rojo', 'Verde'}\n",
            "{'A', 'C', 'Z'}\n"
          ]
        },
        {
          "output_type": "execute_result",
          "data": {
            "text/plain": [
              "dict_values([0, 1, 2])"
            ]
          },
          "metadata": {},
          "execution_count": 125
        }
      ]
    },
    {
      "cell_type": "code",
      "source": [
        "\n",
        "D = {'a':0,'b':1,'c':2}\n",
        "D.values()\n",
        "print(D['b'])\n",
        "\n"
      ],
      "metadata": {
        "colab": {
          "base_uri": "https://localhost:8080/"
        },
        "id": "DvTIxsoUuKJ2",
        "outputId": "7664f977-0ca9-41fa-fc2d-9682f086aa83"
      },
      "execution_count": 127,
      "outputs": [
        {
          "output_type": "stream",
          "name": "stdout",
          "text": [
            "1\n"
          ]
        }
      ]
    },
    {
      "cell_type": "markdown",
      "source": [
        "*Modulo 3*"
      ],
      "metadata": {
        "id": "4Qu52BcXy9Ya"
      }
    }
  ]
}